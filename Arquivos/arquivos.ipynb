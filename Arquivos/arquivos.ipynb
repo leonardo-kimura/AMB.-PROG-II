{
 "cells": [
  {
   "cell_type": "code",
   "execution_count": 1,
   "id": "c9ee96ed",
   "metadata": {},
   "outputs": [],
   "source": [
    "arq = open('teste.txt', 'w')\n",
    "\n",
    "arq.write('Primeiro arquivo criado!')\n",
    "arq.write('\\nSegunda linha criada')\n",
    "\n",
    "arq.close()"
   ]
  },
  {
   "cell_type": "code",
   "execution_count": 2,
   "id": "866fafa4",
   "metadata": {},
   "outputs": [
    {
     "name": "stdout",
     "output_type": "stream",
     "text": [
      "Primeiro arquivo criado!\n",
      "Segunda linha criada\n"
     ]
    }
   ],
   "source": [
    "arq = open('teste.txt', 'r')\n",
    "\n",
    "conteudo = arq.read()\n",
    "print(conteudo)\n",
    "\n",
    "arq.seek(9)\n",
    "resto_do_arquivo = arq.read()\n",
    "\n",
    "arq.close()"
   ]
  },
  {
   "cell_type": "code",
   "execution_count": 3,
   "id": "1d24ab5b",
   "metadata": {},
   "outputs": [
    {
     "name": "stdout",
     "output_type": "stream",
     "text": [
      "arquivo criado!\n",
      "Segunda linha criada\n"
     ]
    }
   ],
   "source": [
    "print(resto_do_arquivo)"
   ]
  },
  {
   "cell_type": "code",
   "execution_count": 4,
   "id": "b78d9b77",
   "metadata": {},
   "outputs": [
    {
     "data": {
      "text/plain": [
       "'r'"
      ]
     },
     "execution_count": 4,
     "metadata": {},
     "output_type": "execute_result"
    }
   ],
   "source": [
    "conteudo[1]"
   ]
  },
  {
   "cell_type": "code",
   "execution_count": 5,
   "id": "3eeba16f",
   "metadata": {},
   "outputs": [],
   "source": [
    "arq = open('novo.txt', 'w')\n",
    "\n",
    "arq.writelines(conteudo) #vai quebrar linha\n",
    "\n",
    "arq.close()"
   ]
  },
  {
   "cell_type": "code",
   "execution_count": 6,
   "id": "b278d924",
   "metadata": {},
   "outputs": [],
   "source": [
    "import sys "
   ]
  },
  {
   "cell_type": "code",
   "execution_count": 7,
   "id": "ae6d9e7f",
   "metadata": {},
   "outputs": [
    {
     "name": "stdout",
     "output_type": "stream",
     "text": [
      "arquivo não existe\n"
     ]
    }
   ],
   "source": [
    "try: \n",
    "    arq = open('arquivo.txt','r')\n",
    "    print(arq.read())\n",
    "except:\n",
    "    print(\"arquivo não existe\")\n",
    "    #sys.exit(1) vai fechar o programa"
   ]
  },
  {
   "cell_type": "code",
   "execution_count": 16,
   "id": "2ccba783",
   "metadata": {},
   "outputs": [],
   "source": [
    "import csv\n",
    "\n",
    "arqCSV = open('teste.csv', 'w', newline='', encoding='utf-8')\n",
    "campos = ['nome', 'sobrenome', 'idade', 'sexo']\n",
    "gravar = csv.DictWriter(arqCSV, fieldnames=campos)\n",
    "gravar.writeheader() # grava os campos na primeira linha do arquivo\n",
    "gravar.writerow({'nome':'José','sobrenome':'Pereira','idade':'30', 'sexo':'M'})\n",
    "gravar.writerow({'nome':'Antônio','sobrenome':'de Souza','idade':'23','sexo':'M'})\n",
    "gravar.writerow({'nome':'Ana Maria','sobrenome':'Braga','idade':'18','sexo':'F'})\n",
    "arqCSV.close()\n"
   ]
  },
  {
   "cell_type": "code",
   "execution_count": 18,
   "id": "16fdb5b9",
   "metadata": {},
   "outputs": [
    {
     "name": "stdout",
     "output_type": "stream",
     "text": [
      "[{'nome': 'JosÃ©', 'sobrenome': 'Pereira', 'idade': '30', 'sexo': 'M'}, {'nome': 'AntÃ´nio', 'sobrenome': 'de Souza', 'idade': '23', 'sexo': 'M'}, {'nome': 'Ana Maria', 'sobrenome': 'Braga', 'idade': '18', 'sexo': 'F'}]\n"
     ]
    }
   ],
   "source": [
    "arqCSV = open('teste.csv', 'r')\n",
    "lerCSV = csv.DictReader(arqCSV)\n",
    "\n",
    "lista_csv = []\n",
    "for linha in lerCSV:\n",
    "    lista_csv.append(linha)\n",
    "\n",
    "print(lista_csv)\n",
    "\n",
    "arqCSV.close()"
   ]
  },
  {
   "cell_type": "code",
   "execution_count": 19,
   "id": "b5ee19a8",
   "metadata": {},
   "outputs": [
    {
     "name": "stdout",
     "output_type": "stream",
     "text": [
      "Primeiro arquivo criado!\n",
      "Segunda linha criada\n"
     ]
    }
   ],
   "source": [
    "with open('teste.txt', 'r') as arq:\n",
    "    conteudo = arq.read()\n",
    "\n",
    "    print(conteudo)\n"
   ]
  }
 ],
 "metadata": {
  "kernelspec": {
   "display_name": "Python 3",
   "language": "python",
   "name": "python3"
  },
  "language_info": {
   "codemirror_mode": {
    "name": "ipython",
    "version": 3
   },
   "file_extension": ".py",
   "mimetype": "text/x-python",
   "name": "python",
   "nbconvert_exporter": "python",
   "pygments_lexer": "ipython3",
   "version": "3.10.1"
  }
 },
 "nbformat": 4,
 "nbformat_minor": 5
}
