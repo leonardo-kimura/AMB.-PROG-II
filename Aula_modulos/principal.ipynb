{
 "cells": [
  {
   "cell_type": "code",
   "execution_count": 2,
   "id": "0df900e6",
   "metadata": {},
   "outputs": [],
   "source": [
    "from modulo import pessoa\n",
    "\n",
    "# print(API_TOKEN)"
   ]
  },
  {
   "cell_type": "code",
   "execution_count": null,
   "id": "60e69e5f",
   "metadata": {},
   "outputs": [
    {
     "data": {
      "text/plain": [
       "3"
      ]
     },
     "execution_count": 2,
     "metadata": {},
     "output_type": "execute_result"
    }
   ],
   "source": [
    "# soma(1,2)"
   ]
  },
  {
   "cell_type": "code",
   "execution_count": null,
   "id": "bdc7ad2a",
   "metadata": {},
   "outputs": [
    {
     "name": "stdout",
     "output_type": "stream",
     "text": [
      "\n",
      "    Função para somar!\n",
      "    \n"
     ]
    }
   ],
   "source": [
    "# print(soma.__doc__)"
   ]
  },
  {
   "cell_type": "code",
   "execution_count": null,
   "id": "3d27ea33",
   "metadata": {},
   "outputs": [],
   "source": [
    "# altera_nome('antonio')"
   ]
  },
  {
   "cell_type": "code",
   "execution_count": null,
   "id": "d315d033",
   "metadata": {},
   "outputs": [
    {
     "name": "stdout",
     "output_type": "stream",
     "text": [
      "joao\n"
     ]
    }
   ],
   "source": [
    "# print_nome()"
   ]
  },
  {
   "cell_type": "code",
   "execution_count": 3,
   "id": "ef486dad",
   "metadata": {},
   "outputs": [
    {
     "name": "stdout",
     "output_type": "stream",
     "text": [
      "nome : joao\n",
      "funcao : professor\n"
     ]
    }
   ],
   "source": [
    "pessoa('joao','professor')"
   ]
  },
  {
   "cell_type": "code",
   "execution_count": null,
   "id": "6be8318e",
   "metadata": {},
   "outputs": [],
   "source": []
  }
 ],
 "metadata": {
  "kernelspec": {
   "display_name": "Python 3",
   "language": "python",
   "name": "python3"
  },
  "language_info": {
   "codemirror_mode": {
    "name": "ipython",
    "version": 3
   },
   "file_extension": ".py",
   "mimetype": "text/x-python",
   "name": "python",
   "nbconvert_exporter": "python",
   "pygments_lexer": "ipython3",
   "version": "3.10.1"
  }
 },
 "nbformat": 4,
 "nbformat_minor": 5
}
