{
 "cells": [
  {
   "cell_type": "code",
   "execution_count": 2,
   "id": "320bb0f1",
   "metadata": {},
   "outputs": [
    {
     "name": "stdout",
     "output_type": "stream",
     "text": [
      "3\n"
     ]
    }
   ],
   "source": [
    "def soma(a,b):\n",
    "    \"\"\"\n",
    "        Função que soma o primeiro parâmetro com o segundo!\n",
    "    \"\"\"\n",
    "\n",
    "    return a+b\n",
    "\n",
    "print(soma(1,2))"
   ]
  },
  {
   "cell_type": "code",
   "execution_count": null,
   "id": "a3d9c0a9",
   "metadata": {},
   "outputs": [
    {
     "name": "stdout",
     "output_type": "stream",
     "text": [
      "\n",
      "        Função que soma o primeiro parâmetro com o segundo!\n",
      "    \n",
      "soma\n",
      "3\n"
     ]
    }
   ],
   "source": [
    "minha_funcao = soma\n",
    "\n",
    "print(soma.__doc__)\n",
    "print(minha_funcao.__name__)\n",
    "print(minha_funcao(1,2))"
   ]
  },
  {
   "cell_type": "code",
   "execution_count": 13,
   "id": "9b80680f",
   "metadata": {},
   "outputs": [
    {
     "name": "stdout",
     "output_type": "stream",
     "text": [
      "x1: 1 x2: 2 x3: 1 x4: 3\n"
     ]
    }
   ],
   "source": [
    "def retangulo(x4,x1=1,x2=1,x3=1):\n",
    "    print(f'x1: {x1} x2: {x2} x3: {x3} x4: {x4}')\n",
    "\n",
    "retangulo(3,x2=2)"
   ]
  },
  {
   "cell_type": "code",
   "execution_count": 15,
   "id": "45798ce3",
   "metadata": {},
   "outputs": [
    {
     "name": "stdout",
     "output_type": "stream",
     "text": [
      "x1: 1 x2: 2 x3: 3 x4: 4\n"
     ]
    }
   ],
   "source": [
    "retangulo(\n",
    "    x1 = 1,\n",
    "    x2 = 2,\n",
    "    x3 = 3,\n",
    "    x4 = 4\n",
    "    )"
   ]
  },
  {
   "cell_type": "code",
   "execution_count": 16,
   "id": "e2199fcf",
   "metadata": {},
   "outputs": [
    {
     "ename": "TypeError",
     "evalue": "retangulo() got an unexpected keyword argument 'y'",
     "output_type": "error",
     "traceback": [
      "\u001b[1;31m---------------------------------------------------------------------------\u001b[0m",
      "\u001b[1;31mTypeError\u001b[0m                                 Traceback (most recent call last)",
      "Cell \u001b[1;32mIn[16], line 1\u001b[0m\n\u001b[1;32m----> 1\u001b[0m \u001b[43mretangulo\u001b[49m\u001b[43m(\u001b[49m\u001b[43my\u001b[49m\u001b[38;5;241;43m=\u001b[39;49m\u001b[38;5;241;43m5\u001b[39;49m\u001b[43m)\u001b[49m\n",
      "\u001b[1;31mTypeError\u001b[0m: retangulo() got an unexpected keyword argument 'y'"
     ]
    }
   ],
   "source": [
    "retangulo(y=5)"
   ]
  },
  {
   "cell_type": "code",
   "execution_count": null,
   "id": "e16c478d",
   "metadata": {},
   "outputs": [],
   "source": [
    "idade_usuario = 15\n",
    "\n",
    "def maiores()\n",
    "\n",
    "def menores()\n",
    "\n",
    "if idade_usuario < 18:\n",
    "    minha_funcao = menores\n",
    "else:\n",
    "    minha_funcao = maiores\n",
    "\n",
    "minha_funcao(parametros)\n",
    "\n",
    "minha_funcao(parametros)\n"
   ]
  },
  {
   "cell_type": "code",
   "execution_count": 10,
   "id": "f5ab6301",
   "metadata": {},
   "outputs": [
    {
     "name": "stdout",
     "output_type": "stream",
     "text": [
      "(1, 2, 3, 4, 5, 6, 7, 8)\n",
      "<class 'tuple'>\n",
      "1\n",
      "2\n",
      "3\n",
      "4\n",
      "5\n",
      "6\n",
      "7\n",
      "8\n"
     ]
    }
   ],
   "source": [
    "def retangulo(*pontos):\n",
    "    print(pontos)\n",
    "    print(type(pontos))\n",
    "    for p in pontos:\n",
    "        print(p)\n",
    "\n",
    "retangulo(1,2,3,4,5,6,7,8)"
   ]
  },
  {
   "cell_type": "code",
   "execution_count": 4,
   "id": "1b2784ad",
   "metadata": {},
   "outputs": [],
   "source": [
    "area = lambda r: 3.1415 * r ** 2\n"
   ]
  },
  {
   "cell_type": "code",
   "execution_count": 8,
   "id": "e92e8e08",
   "metadata": {},
   "outputs": [],
   "source": [
    "area = lambda r, pi: pi * r ** 2"
   ]
  },
  {
   "cell_type": "code",
   "execution_count": 9,
   "id": "548faaf2",
   "metadata": {},
   "outputs": [
    {
     "data": {
      "text/plain": [
       "314.0"
      ]
     },
     "execution_count": 9,
     "metadata": {},
     "output_type": "execute_result"
    }
   ],
   "source": [
    "area(10,3.14)"
   ]
  },
  {
   "cell_type": "code",
   "execution_count": 11,
   "id": "03bb18d6",
   "metadata": {},
   "outputs": [
    {
     "name": "stdout",
     "output_type": "stream",
     "text": [
      "<function <lambda> at 0x00000285E7A4B880>\n",
      "<function retangulo at 0x00000285E7A4BEB0>\n"
     ]
    }
   ],
   "source": [
    "print(area)\n",
    "print(retangulo)"
   ]
  },
  {
   "cell_type": "code",
   "execution_count": null,
   "id": "15894487",
   "metadata": {},
   "outputs": [],
   "source": []
  }
 ],
 "metadata": {
  "kernelspec": {
   "display_name": "Python 3",
   "language": "python",
   "name": "python3"
  },
  "language_info": {
   "codemirror_mode": {
    "name": "ipython",
    "version": 3
   },
   "file_extension": ".py",
   "mimetype": "text/x-python",
   "name": "python",
   "nbconvert_exporter": "python",
   "pygments_lexer": "ipython3",
   "version": "3.10.1"
  }
 },
 "nbformat": 4,
 "nbformat_minor": 5
}
